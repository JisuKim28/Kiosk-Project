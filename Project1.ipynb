{
 "cells": [
  {
   "cell_type": "code",
   "execution_count": 11,
   "id": "9cda3e02",
   "metadata": {
    "scrolled": true
   },
   "outputs": [
    {
     "name": "stdout",
     "output_type": "stream",
     "text": [
      "넓이를 구하고 싶은 사각형의 숫자를 써주세요.\n",
      " 1.직사각형 2.평행사변형 3.사다리꼴 \n",
      " >>>1\n",
      "가로, 세로를 입력하세요. 예시 : 가로,세로\n",
      " >>>1,10\n",
      "직사각형의 넓이는 : 10\n",
      "가로, 세로를 입력하세요. 예시 : 가로,세로\n",
      " >>>2,20\n"
     ]
    },
    {
     "data": {
      "text/plain": [
       "'직사각형의 넓이는 : 40'"
      ]
     },
     "execution_count": 11,
     "metadata": {},
     "output_type": "execute_result"
    }
   ],
   "source": [
    "class Square:\n",
    "    def __init__(self):\n",
    "        self.square = int(input('넓이를 구하고 싶은 사각형의 숫자를 써주세요.\\n 1.직사각형 2.평행사변형 3.사다리꼴 \\n >>>'))\n",
    "        \n",
    "        if self.square == 1:\n",
    "            print(self.rect())\n",
    "        \n",
    "        elif self.square == 2:\n",
    "            print(self.par())\n",
    "        \n",
    "        elif self.square == 3:\n",
    "            print(self.trape())\n",
    "        \n",
    "        else:\n",
    "            print('1, 2, 3 중에서 다시 입력해주세요.')\n",
    "            \n",
    "    def rect(self):\n",
    "        width, vertical = map(int, input('가로, 세로를 입력하세요. 예시 : 가로,세로\\n >>>').split(','))\n",
    "        area = width * vertical\n",
    "        result = '직사각형의 넓이는 : ' + str(area)\n",
    "        return result\n",
    "\n",
    "    def par(self):\n",
    "        lower, height = map(int, input('밑변, 높이를 입력하세요. 예시 : 밑변,높이\\n >>>').split(','))\n",
    "        area = lower * height\n",
    "        result = '평행사변형의 넓이는 : ' + str(area)\n",
    "        return result\n",
    "\n",
    "    def trape(self):\n",
    "        lower,  upper, height = map(int, input('밑변, 윗변, 높이를 입력하세요. 예시 : 밑변,윗변,높이\\n >>>').split(','))\n",
    "        area = (lower + upper) * height / 2\n",
    "        result = '사다리꼴의 넓이는 : ' + str(area)\n",
    "        return result\n",
    "    \n",
    "# 이제 객체만 만들면 알아서 실행됨\n",
    "a = Square()"
   ]
  },
  {
   "cell_type": "code",
   "execution_count": 12,
   "id": "72dc8676",
   "metadata": {},
   "outputs": [
    {
     "name": "stdout",
     "output_type": "stream",
     "text": [
      "넓이를 구하고 싶은 사각형의 숫자를 써주세요.\n",
      " 1.직사각형 2.평행사변형 3.사다리꼴 \n",
      " >>>1\n",
      "가로, 세로를 입력하세요. 예시 : 가로,세로\n",
      " >>>1,10\n",
      "직사각형의 넓이는 : 10\n"
     ]
    }
   ],
   "source": [
    "class Square:\n",
    "    def __init__(self):\n",
    "        self.square = int(input('넓이를 구하고 싶은 사각형의 숫자를 써주세요.\\n 1.직사각형 2.평행사변형 3.사다리꼴 \\n >>>'))\n",
    "        \n",
    "        if self.square == 1:\n",
    "            print(self.rect())\n",
    "        \n",
    "        elif self.square == 2:\n",
    "            print(self.par())\n",
    "        \n",
    "        elif self.square == 3:\n",
    "            print(self.trape())\n",
    "        \n",
    "        else:\n",
    "            print('1, 2, 3 중에서 다시 입력해주세요.')\n",
    "            \n",
    "    def rect(self):\n",
    "        width, vertical = map(int, input('가로, 세로를 입력하세요. 예시 : 가로,세로\\n >>>').split(','))\n",
    "        area = width * vertical\n",
    "        result = '직사각형의 넓이는 : ' + str(area)\n",
    "        return result\n",
    "\n",
    "    def par(self):\n",
    "        lower, height = map(int, input('밑변, 높이를 입력하세요. 예시 : 밑변,높이\\n >>>').split(','))\n",
    "        area = lower * height\n",
    "        result = '평행사변형의 넓이는 : ' + str(area)\n",
    "        return result\n",
    "\n",
    "    def trape(self):\n",
    "        lower,  upper, height = map(int, input('밑변, 윗변, 높이를 입력하세요. 예시 : 밑변,윗변,높이\\n >>>').split(','))\n",
    "        area = (lower + upper) * height / 2\n",
    "        result = '사다리꼴의 넓이는 : ' + str(area)\n",
    "        return result\n",
    "    \n",
    "# 이제 객체만 만들면 알아서 실행됨\n",
    "a = Square()"
   ]
  },
  {
   "cell_type": "code",
   "execution_count": 18,
   "id": "a234c2ae",
   "metadata": {},
   "outputs": [
    {
     "name": "stdout",
     "output_type": "stream",
     "text": [
      "넓이를 구하고 싶은 사각형의 숫자를 써주세요.\n",
      " 1.직사각형 2.평행사변형 3.사다리꼴 \n",
      " >>>1\n",
      "가로, 세로를 입력하세요. 예시 : 가로,세로\n",
      " >>>1,10\n",
      "직사각형의 넓이는 : 10\n",
      "가로, 세로를 입력하세요. 예시 : 가로,세로\n",
      " >>>2,20\n"
     ]
    },
    {
     "data": {
      "text/plain": [
       "'직사각형의 넓이는 : 40'"
      ]
     },
     "execution_count": 18,
     "metadata": {},
     "output_type": "execute_result"
    }
   ],
   "source": [
    "class Square:\n",
    "    def __init__(self):\n",
    "        self.square = int(input('넓이를 구하고 싶은 사각형의 숫자를 써주세요.\\n 1.직사각형 2.평행사변형 3.사다리꼴 \\n >>>'))\n",
    "        \n",
    "        if self.square == 1:\n",
    "            print(self.rect())\n",
    "        \n",
    "        elif self.square == 2:\n",
    "            print(self.par())\n",
    "        \n",
    "        elif self.square == 3:\n",
    "            print(self.trape())\n",
    "        \n",
    "        else:\n",
    "            print('1, 2, 3 중에서 다시 입력해주세요.')\n",
    "            \n",
    "    def rect(self):\n",
    "        width, vertical = map(int, input('가로, 세로를 입력하세요. 예시 : 가로,세로\\n >>>').split(','))\n",
    "        area = width * vertical\n",
    "        result = '직사각형의 넓이는 : ' + str(area)\n",
    "        return result\n",
    "\n",
    "    def par(self):\n",
    "        lower, height = map(int, input('밑변, 높이를 입력하세요. 예시 : 밑변,높이\\n >>>').split(','))\n",
    "        area = lower * height\n",
    "        result = '평행사변형의 넓이는 : ' + str(area)\n",
    "        return result\n",
    "\n",
    "    def trape(self):\n",
    "        lower,  upper, height = map(int, input('밑변, 윗변, 높이를 입력하세요. 예시 : 밑변,윗변,높이\\n >>>').split(','))\n",
    "        area = (lower + upper) * height / 2\n",
    "        result = '사다리꼴의 넓이는 : ' + str(area)\n",
    "        return result\n",
    "    \n",
    "# 이제 객체만 만들면 알아서 실행됨\n",
    "a = Square()\n",
    "#a.rect()"
   ]
  },
  {
   "cell_type": "code",
   "execution_count": 19,
   "id": "2ae4dd5a",
   "metadata": {},
   "outputs": [
    {
     "name": "stdout",
     "output_type": "stream",
     "text": [
      "넓이를 구하고 싶은 사각형의 숫자를 써주세요.\n",
      " 1.직사각형 2.평행사변형 3.사다리꼴 \n",
      " >>>1\n",
      "가로, 세로를 입력하세요. 예시 : 가로,세로\n",
      " >>>1,10\n",
      "직사각형의 넓이는 : 10\n"
     ]
    }
   ],
   "source": [
    "class Square:\n",
    "    def __init__(self):\n",
    "        self.square = int(input('넓이를 구하고 싶은 사각형의 숫자를 써주세요.\\n 1.직사각형 2.평행사변형 3.사다리꼴 \\n >>>'))\n",
    "        \n",
    "        if self.square == 1:\n",
    "            print('직사각형 함수는 rect()입니다.')\n",
    "            print(self.rect())\n",
    "        \n",
    "        elif self.square == 2:\n",
    "            print('평행사변형 함수는 par()입니다.')\n",
    "            print(self.par())\n",
    "        \n",
    "        elif self.square == 3:\n",
    "            print('사다리꼴 함수는 trape()입니다.')\n",
    "            print(self.trape())\n",
    "        \n",
    "        else:\n",
    "            print('1, 2, 3 중에서 다시 입력해주세요.')\n",
    "            \n",
    "    def rect(self):\n",
    "        width, vertical = map(int, input('가로, 세로를 입력하세요. 예시 : 가로,세로\\n >>>').split(','))\n",
    "        area = width * vertical\n",
    "        result = '직사각형의 넓이는 : ' + str(area)\n",
    "        return result\n",
    "\n",
    "    def par(self):\n",
    "        lower, height = map(int, input('밑변, 높이를 입력하세요. 예시 : 밑변,높이\\n >>>').split(','))\n",
    "        area = lower * height\n",
    "        result = '평행사변형의 넓이는 : ' + str(area)\n",
    "        return result\n",
    "\n",
    "    def trape(self):\n",
    "        lower,  upper, height = map(int, input('밑변, 윗변, 높이를 입력하세요. 예시 : 밑변,윗변,높이\\n >>>').split(','))\n",
    "        area = (lower + upper) * height / 2\n",
    "        result = '사다리꼴의 넓이는 : ' + str(area)\n",
    "        return result\n",
    "    \n",
    "# 이제 객체만 만들면 알아서 실행됨\n",
    "a = Square()"
   ]
  },
  {
   "cell_type": "code",
   "execution_count": 24,
   "id": "33051370",
   "metadata": {},
   "outputs": [
    {
     "name": "stdout",
     "output_type": "stream",
     "text": [
      "넓이를 구하고 싶은 사각형의 숫자를 써주세요.\n",
      " 1.직사각형 2.평행사변형 3.사다리꼴 \n",
      " >>>\n"
     ]
    },
    {
     "ename": "ValueError",
     "evalue": "invalid literal for int() with base 10: ''",
     "output_type": "error",
     "traceback": [
      "\u001b[0;31m---------------------------------------------------------------------------\u001b[0m",
      "\u001b[0;31mValueError\u001b[0m                                Traceback (most recent call last)",
      "\u001b[0;32m/tmp/ipykernel_37/3533923784.py\u001b[0m in \u001b[0;36m<module>\u001b[0;34m\u001b[0m\n\u001b[1;32m     33\u001b[0m         \u001b[0;32mreturn\u001b[0m \u001b[0mresult\u001b[0m\u001b[0;34m\u001b[0m\u001b[0;34m\u001b[0m\u001b[0m\n\u001b[1;32m     34\u001b[0m \u001b[0;34m\u001b[0m\u001b[0m\n\u001b[0;32m---> 35\u001b[0;31m \u001b[0ma\u001b[0m \u001b[0;34m=\u001b[0m \u001b[0mSquare\u001b[0m\u001b[0;34m(\u001b[0m\u001b[0;34m)\u001b[0m\u001b[0;34m\u001b[0m\u001b[0;34m\u001b[0m\u001b[0m\n\u001b[0m",
      "\u001b[0;32m/tmp/ipykernel_37/3533923784.py\u001b[0m in \u001b[0;36m__init__\u001b[0;34m(self)\u001b[0m\n\u001b[1;32m      1\u001b[0m \u001b[0;32mclass\u001b[0m \u001b[0mSquare\u001b[0m\u001b[0;34m:\u001b[0m\u001b[0;34m\u001b[0m\u001b[0;34m\u001b[0m\u001b[0m\n\u001b[1;32m      2\u001b[0m     \u001b[0;32mdef\u001b[0m \u001b[0m__init__\u001b[0m\u001b[0;34m(\u001b[0m\u001b[0mself\u001b[0m\u001b[0;34m)\u001b[0m\u001b[0;34m:\u001b[0m\u001b[0;34m\u001b[0m\u001b[0;34m\u001b[0m\u001b[0m\n\u001b[0;32m----> 3\u001b[0;31m         \u001b[0mself\u001b[0m\u001b[0;34m.\u001b[0m\u001b[0msquare\u001b[0m \u001b[0;34m=\u001b[0m \u001b[0mint\u001b[0m\u001b[0;34m(\u001b[0m\u001b[0minput\u001b[0m\u001b[0;34m(\u001b[0m\u001b[0;34m'넓이를 구하고 싶은 사각형의 숫자를 써주세요.\\n 1.직사각형 2.평행사변형 3.사다리꼴 \\n >>>'\u001b[0m\u001b[0;34m)\u001b[0m\u001b[0;34m)\u001b[0m\u001b[0;34m\u001b[0m\u001b[0;34m\u001b[0m\u001b[0m\n\u001b[0m\u001b[1;32m      4\u001b[0m \u001b[0;34m\u001b[0m\u001b[0m\n\u001b[1;32m      5\u001b[0m         \u001b[0;32mif\u001b[0m \u001b[0mself\u001b[0m\u001b[0;34m.\u001b[0m\u001b[0msquare\u001b[0m \u001b[0;34m==\u001b[0m \u001b[0;36m1\u001b[0m\u001b[0;34m:\u001b[0m\u001b[0;34m\u001b[0m\u001b[0;34m\u001b[0m\u001b[0m\n",
      "\u001b[0;31mValueError\u001b[0m: invalid literal for int() with base 10: ''"
     ]
    }
   ],
   "source": [
    "class Square:\n",
    "    def __init__(self):\n",
    "        self.square = int(input('넓이를 구하고 싶은 사각형의 숫자를 써주세요.\\n 1.직사각형 2.평행사변형 3.사다리꼴 \\n >>>'))\n",
    "\n",
    "        if self.square == 1:\n",
    "            print('직사각형 함수는 rect()입니다.')\n",
    "\n",
    "        elif self.square == 2:\n",
    "            print('평행사변형 함수는 par()입니다.')\n",
    "        \n",
    "        elif self.square == 3:\n",
    "            print('사다리꼴 함수는 trape()입니다.')\n",
    "        \n",
    "        else:\n",
    "            print('1, 2, 3 중에서 다시 입력해주세요')\n",
    "\n",
    "    def rect(self):\n",
    "        width, vertical = map(int, input('가로, 세로를 입력하세요. 예시 : 가로,세로\\n >>>').split(','))\n",
    "        area = width * vertical\n",
    "        result = '직사각형의 넓이는 : ' + str(area)\n",
    "        return result\n",
    "\n",
    "    def par(self):\n",
    "        base, height = map(int, input('밑변과 높이를 입력하세요. 예시 : 밑변,높이\\n >>> ').split(','))\n",
    "        area = base * height\n",
    "        result = '평행사변형의 넓이는 : ' + str(area)\n",
    "        return result\n",
    "\n",
    "    def trape(self):\n",
    "        top, bottom, height = map(int, input('윗변, 아랫변, 높이를 입력하세요. 예시 : 윗변,아랫변,높이\\n >>> ').split(','))\n",
    "        area = (top + bottom) * height / 2\n",
    "        result = '사다리꼴의 넓이는 : ' + str(area)\n",
    "        return result\n",
    "\n",
    "a = Square()"
   ]
  },
  {
   "cell_type": "code",
   "execution_count": 30,
   "id": "69727c6c",
   "metadata": {},
   "outputs": [
    {
     "name": "stdout",
     "output_type": "stream",
     "text": [
      "넓이를 구하고 싶은 사각형의 숫자를 써주세요.\n",
      " 1.직사각형 2.평행사변형 3.사다리꼴 \n",
      " >>>1\n",
      "직사각형 함수는 rect()입니다.\n",
      "가로, 세로를 입력하세요. 예시 : 가로,세로\n",
      " >>>1,10\n",
      "밑변과 높이를 입력하세요. 예시 : 밑변,높이\n",
      " >>> 2,20\n"
     ]
    },
    {
     "data": {
      "text/plain": [
       "'평행사변형의 넓이는 : 40'"
      ]
     },
     "execution_count": 30,
     "metadata": {},
     "output_type": "execute_result"
    }
   ],
   "source": [
    "class Square:\n",
    "    def __init__(self):\n",
    "        self.square = int(input('넓이를 구하고 싶은 사각형의 숫자를 써주세요.\\n 1.직사각형 2.평행사변형 3.사다리꼴 \\n >>>'))\n",
    "\n",
    "        if self.square == 1:\n",
    "            print('직사각형 함수는 rect()입니다.')\n",
    "\n",
    "        elif self.square == 2:\n",
    "            print('평행사변형 함수는 par()입니다.')\n",
    "        \n",
    "        elif self.square == 3:\n",
    "            print('사다리꼴 함수는 trape()입니다.')\n",
    "        \n",
    "        else:\n",
    "            print('1, 2, 3 중에서 다시 입력해주세요')\n",
    "\n",
    "    def rect(self):\n",
    "        width, vertical = map(int, input('가로, 세로를 입력하세요. 예시 : 가로,세로\\n >>>').split(','))\n",
    "        area = width * vertical\n",
    "        result = '직사각형의 넓이는 : ' + str(area)\n",
    "        return result\n",
    "\n",
    "    def par(self):\n",
    "        base, height = map(int, input('밑변과 높이를 입력하세요. 예시 : 밑변,높이\\n >>> ').split(','))\n",
    "        area = base * height\n",
    "        result = '평행사변형의 넓이는 : ' + str(area)\n",
    "        return result\n",
    "\n",
    "    def trape(self):\n",
    "        top, bottom, height = map(int, input('윗변, 아랫변, 높이를 입력하세요. 예시 : 윗변,아랫변,높이\\n >>> ').split(','))\n",
    "        area = (top + bottom) * height / 2\n",
    "        result = '사다리꼴의 넓이는 : ' + str(area)\n",
    "        return result\n",
    "        \n",
    "a = Square()\n",
    "a.rect()\n",
    "a.par()"
   ]
  },
  {
   "cell_type": "code",
   "execution_count": null,
   "id": "8c486227",
   "metadata": {},
   "outputs": [],
   "source": [
    "class Square:\n",
    "    def __init__(self):\n",
    "        self.square = int(input('넓이를 구하고 싶은 사각형의 숫자를 써주세요.\\n 1.직사각형 2.평행사변형 3.사다리꼴 \\n >>>'))\n",
    "        \n",
    "        if self.square == 1:\n",
    "            print('직사각형 함수는 rect()입니다.')\n",
    "            print(self.rect())\n",
    "        \n",
    "        elif self.square == 2:\n",
    "            print('평행사변형 함수는 par()입니다.')\n",
    "            print(self.par())\n",
    "        \n",
    "        elif self.square == 3:\n",
    "            print('사다리꼴 함수는 trape()입니다.')\n",
    "            print(self.trape())\n",
    "        \n",
    "        else:\n",
    "            print('1, 2, 3 중에서 다시 입력해주세요.')\n",
    "            \n",
    "    def rect(self):\n",
    "        width, vertical = map(int, input('가로, 세로를 입력하세요. 예시 : 가로,세로\\n >>>').split(','))\n",
    "        area = width * vertical\n",
    "        result = '직사각형의 넓이는 : ' + str(area)\n",
    "        return result\n",
    "\n",
    "    def par(self):\n",
    "        lower, height = map(int, input('밑변, 높이를 입력하세요. 예시 : 밑변,높이\\n >>>').split(','))\n",
    "        area = lower * height\n",
    "        result = '평행사변형의 넓이는 : ' + str(area)\n",
    "        return result\n",
    "\n",
    "    def trape(self):\n",
    "        lower,  upper, height = map(int, input('밑변, 윗변, 높이를 입력하세요. 예시 : 밑변,윗변,높이\\n >>>').split(','))\n",
    "        area = (lower + upper) * height / 2\n",
    "        result = '사다리꼴의 넓이는 : ' + str(area)\n",
    "        return result\n",
    "    \n",
    "# 이제 객체만 만들면 알아서 실행됨\n",
    "a = Square()"
   ]
  },
  {
   "cell_type": "code",
   "execution_count": null,
   "id": "c704c042",
   "metadata": {},
   "outputs": [],
   "source": []
  }
 ],
 "metadata": {
  "kernelspec": {
   "display_name": "Python 3 (ipykernel)",
   "language": "python",
   "name": "python3"
  },
  "language_info": {
   "codemirror_mode": {
    "name": "ipython",
    "version": 3
   },
   "file_extension": ".py",
   "mimetype": "text/x-python",
   "name": "python",
   "nbconvert_exporter": "python",
   "pygments_lexer": "ipython3",
   "version": "3.9.7"
  }
 },
 "nbformat": 4,
 "nbformat_minor": 5
}
