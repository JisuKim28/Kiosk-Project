{
 "cells": [
  {
   "cell_type": "code",
   "execution_count": 1,
   "id": "d7c36e20",
   "metadata": {},
   "outputs": [
    {
     "name": "stdout",
     "output_type": "stream",
     "text": [
      "⟝------------------------------⟞\n",
      "|                               |\n",
      "|                               |\n",
      "|                               |\n",
      "|                               |\n",
      "상품명 : HOT 아메리카노\n",
      "총 주문 금액 : 1500원\n",
      "|                               |\n",
      "|                               |\n",
      "|                               |\n",
      "|                               |\n",
      "⟝------------------------------⟞\n"
     ]
    }
   ],
   "source": [
    "# 주문 번호 코드로 출력   \n",
    "print('⟝' + '-' * 30 + '⟞')\n",
    "print('|' + ' ' * 31 + '|')\n",
    "print('|' + ' ' * 31 + '|')\n",
    "print('|' + ' ' * 31 + '|')\n",
    "print('|' + ' ' * 31 + '|')\n",
    "print('상품명 : HOT 아메리카노') \n",
    "print('총 주문 금액 : 1500원')\n",
    "print('|' + ' ' * 31 + '|')\n",
    "print('|' + ' ' * 31 + '|')\n",
    "print('|' + ' ' * 31 + '|')\n",
    "print('|' + ' ' * 31 + '|')\n",
    "print('⟝' + '-' * 30 + '⟞')"
   ]
  },
  {
   "cell_type": "code",
   "execution_count": 6,
   "id": "ea46f7be",
   "metadata": {},
   "outputs": [],
   "source": [
    "#커피 = [아메리카노, 라떼, 모카]\n",
    "#논커피 = [유자차, 녹차, 초코라떼]\n",
    "\n",
    "#커피 = [2000, 3000, 3000]\n",
    "#논커피 = [2500, 2500, 3000]\n",
    "\n",
    "# 커피 메뉴와 가격\n",
    "coffee = ['americano', 'latte', 'mocha'] \n",
    "c_price = [2000, 3000, 3000]\n",
    "\n",
    "# 논커피 메뉴와 가격\n",
    "non_coffee = ['yuza_tea', 'green_tea', 'choco_latte']\n",
    "n_price = [2500, 2500, 3000]\n"
   ]
  },
  {
   "cell_type": "code",
   "execution_count": 22,
   "id": "937ec542",
   "metadata": {},
   "outputs": [],
   "source": [
    "# 전체 메뉴와 가격 \n",
    "menu = ['americano', 'latte', 'mocha', 'yuza_tea', 'green_tea', 'choco_latte']\n",
    "price = [2000, 3000, 3000, 2500, 2500, 3000]"
   ]
  },
  {
   "cell_type": "code",
   "execution_count": 11,
   "id": "f9296305",
   "metadata": {},
   "outputs": [
    {
     "name": "stdout",
     "output_type": "stream",
     "text": [
      "['yuza_tea', 'green_tea', 'choco_latte']\n",
      "[2500, 2500, 3000]\n"
     ]
    }
   ],
   "source": [
    "# 논커피 메뉴와 가격을 출력해보세요.\n",
    "print(menu[3:6])\n",
    "print(price[3:6])"
   ]
  },
  {
   "cell_type": "code",
   "execution_count": 10,
   "id": "111002bb",
   "metadata": {},
   "outputs": [
    {
     "name": "stdout",
     "output_type": "stream",
     "text": [
      "['yuza_tea', 'green_tea', 'choco_latte'] [2500, 2500, 3000]\n"
     ]
    }
   ],
   "source": [
    "# 이렇게 줄일 수 있음\n",
    "print(menu[3:], price[3:])"
   ]
  },
  {
   "cell_type": "code",
   "execution_count": 15,
   "id": "20321e45",
   "metadata": {},
   "outputs": [
    {
     "data": {
      "text/plain": [
       "[2000, 3000, 3000, 2500, 2500, 3000]"
      ]
     },
     "execution_count": 15,
     "metadata": {},
     "output_type": "execute_result"
    }
   ],
   "source": [
    "class Kiosk:\n",
    "    def __init__(self):\n",
    "        self.menu = menu\n",
    "        self.price = price\n",
    "a = Kiosk()\n",
    "a.menu\n",
    "a.price"
   ]
  },
  {
   "cell_type": "code",
   "execution_count": 24,
   "id": "08ad8560",
   "metadata": {},
   "outputs": [
    {
     "name": "stdout",
     "output_type": "stream",
     "text": [
      "['americano', 'latte', 'mocha', 'yuza_tea', 'green_tea', 'choco_latte']\n",
      "[2000, 3000, 3000, 2500, 2500, 3000]\n"
     ]
    }
   ],
   "source": [
    "# 커피 메뉴와 가격\n",
    "menu = ['americano', 'latte', 'mocha', 'yuza_tea', 'green_tea', 'choco_latte']\n",
    "price = [2000, 3000, 3000, 2500, 2500, 3000]\n",
    "\n",
    "\n",
    "class Kiosk:\n",
    "    def __init__(self):\n",
    "        self.menu = menu\n",
    "        self.price = price\n",
    "        \n",
    "a = Kiosk()\n",
    "print(a.menu)\n",
    "# a.price는 마지막 줄이니까 → 파이썬 인터프리터가 자동으로 그 값을 화면에 출력함.\n",
    "print(a.price)"
   ]
  },
  {
   "cell_type": "code",
   "execution_count": 25,
   "id": "a88809f8",
   "metadata": {},
   "outputs": [
    {
     "data": {
      "text/plain": [
       "[2000, 3000, 3000, 2500, 2500, 3000]"
      ]
     },
     "execution_count": 25,
     "metadata": {},
     "output_type": "execute_result"
    }
   ],
   "source": [
    "# 커피 메뉴와 가격\n",
    "menu = ['americano', 'latte', 'mocha', 'yuza_tea', 'green_tea', 'choco_latte']\n",
    "price = [2000, 3000, 3000, 2500, 2500, 3000]\n",
    "\n",
    "\n",
    "class Kiosk:\n",
    "    def __init__(self):\n",
    "        self.menu = menu\n",
    "        self.price = price\n",
    "        \n",
    "a = Kiosk()\n",
    "a.menu\n",
    "a.price"
   ]
  },
  {
   "cell_type": "code",
   "execution_count": 27,
   "id": "2acaa78c",
   "metadata": {},
   "outputs": [
    {
     "name": "stdout",
     "output_type": "stream",
     "text": [
      "['americano', 'latte', 'mocha', 'yuza_tea', 'green_tea', 'choco_latte']\n"
     ]
    }
   ],
   "source": [
    "# 커피 메뉴와 가격\n",
    "menu = ['americano', 'latte', 'mocha', 'yuza_tea', 'green_tea', 'choco_latte']\n",
    "price = [2000, 3000, 3000, 2500, 2500, 3000]\n",
    "\n",
    "\n",
    "class Kiosk:\n",
    "    def __init__(self, menu, price):\n",
    "        self.menu = menu\n",
    "        self.price = price\n",
    "        \n",
    "a = Kiosk(menu, price)\n",
    "print(a.menu)"
   ]
  },
  {
   "cell_type": "code",
   "execution_count": 31,
   "id": "97e80dad",
   "metadata": {},
   "outputs": [
    {
     "name": "stdout",
     "output_type": "stream",
     "text": [
      "1 americano  :  2000 원\n",
      "2 latte  :  3000 원\n",
      "3 mocha  :  3000 원\n",
      "4 yuza_tea  :  2500 원\n",
      "5 green_tea  :  2500 원\n",
      "6 choco_latte  :  3000 원\n"
     ]
    }
   ],
   "source": [
    "# 커피 메뉴와 가격\n",
    "menu = ['americano', 'latte', 'mocha', 'yuza_tea', 'green_tea', 'choco_latte']\n",
    "price = [2000, 3000, 3000, 2500, 2500, 3000]\n",
    "\n",
    "\n",
    "class Kiosk: \n",
    "    # 문제 2-1의 답을 입력하세요.     \n",
    "    def __init__(self):\n",
    "        self.menu = menu\n",
    "        self.price = price\n",
    "\n",
    "# 메뉴 출력 메서드\n",
    "    def menu_print(self):\n",
    "        for i in range(len(self.menu)):\n",
    "            print(i+1, self.menu[i], ' : ', self.price[i], '원')\n",
    "            \n",
    "    def menu_select(self):\n",
    "        n = 0\n",
    "        while n < 1 or len(menu) < n:\n",
    "            n = int(input(\"음료 번호를 입력하세요:\"))\n",
    "            \n",
    "            if 1 <= n & n <= len(menu):\n",
    "                self.price_sum = self.price[n-1]\n",
    "                print(self.menu[i],':',self.price[i],'원')\n",
    "                \n",
    "            else:\n",
    "                print(\"없는 메뉴입니다. 다시 주문해주세요.\")\n",
    "            \n",
    "a = Kiosk()  # 객체 생성 \n",
    "a.menu_print()  # 메뉴 출력"
   ]
  },
  {
   "cell_type": "code",
   "execution_count": 33,
   "id": "36ed11ae",
   "metadata": {},
   "outputs": [
    {
     "ename": "IndentationError",
     "evalue": "unexpected indent (1612021417.py, line 40)",
     "output_type": "error",
     "traceback": [
      "\u001b[0;36m  File \u001b[0;32m\"/tmp/ipykernel_53/1612021417.py\"\u001b[0;36m, line \u001b[0;32m40\u001b[0m\n\u001b[0;31m    else:\u001b[0m\n\u001b[0m    ^\u001b[0m\n\u001b[0;31mIndentationError\u001b[0m\u001b[0;31m:\u001b[0m unexpected indent\n"
     ]
    }
   ],
   "source": [
    "menu = ['americano', 'latte', 'mocha', 'yuza_tea', 'green_tea', 'choco_latte']\n",
    "price = [2000, 3000, 3000, 2500, 2500, 3000]\n",
    "\n",
    "class Kiosk:\n",
    "    def __init__(self):\n",
    "        self.menu = menu\n",
    "        self.price = price\n",
    "    \n",
    "    def menu_selef(self):\n",
    "        self.order_menu = []\n",
    "        self.order_price = []\n",
    "        \n",
    "        n = 0\n",
    "        while n < 1 or len(menu) < n:\n",
    "            n = int(input(\"음료의 번호를 입력하세요:\"))\n",
    "            \n",
    "            if 1 <= n & n <= len(menu):\n",
    "                self.order_price.append(self.price[n-1])  # 가격 리스트에 추가합니다.\n",
    "                self.price_sum = self.price[n-1]  # 합계 금액\n",
    "            else:\n",
    "                print(\"없는 메뉴입니다. 다시 주문해주세요.\")\n",
    "                \n",
    "        t = 0\n",
    "        while t!=1 and t!=2:\n",
    "            t = int(input(\"HOT 음료는 1을, ICE 음료는 2를 입력하세요 : \"))\n",
    "            if t == 1:\n",
    "                self.temp = \"HOT\"\n",
    "            elif t == 2:\n",
    "                self.temp =\"ICE\"\n",
    "            else:\n",
    "                print(\"1과 2중 하나를 입력하세요.\\n\")\n",
    "                \n",
    "        self.order_menu.append(self.temp + '' + self.menu[n-1])\n",
    "        self.order_price.append(self.price[n-1])\n",
    "        \n",
    "        self.price_sum(self.order_price)\n",
    "        \n",
    "        print('추가 주문 음료', self.temp, self.menu[n-1], ':', self.price[n-1], '원\\n', '합계 : ', self.price_sum, '원')\n",
    "        \n",
    "            else:\n",
    "            if n == 0:\n",
    "                print(\"주문이 완료되었습니다.\")\n",
    "                print(\"최종 주문 내역:\", self.order_menu)\n",
    "                print(\"각 음료 가격:\", self.order_price)\n",
    "                print(\"총 결제 금액:\", sum(self.order_price), \"원\")\n",
    "            else:\n",
    "                print(\"없는 메뉴입니다. 다시 주문해 주세요.\")\n",
    "\n",
    "# 실행 예시\n",
    "a = Kiosk()\n",
    "a.menu_select()"
   ]
  },
  {
   "cell_type": "code",
   "execution_count": 34,
   "id": "ab26ba96",
   "metadata": {},
   "outputs": [
    {
     "name": "stdout",
     "output_type": "stream",
     "text": [
      "음료의 번호를 입력하세요:1\n",
      "HOT 음료는 1을, ICE 음료는 2를 입력하세요 : 2\n",
      "추가 주문 음료 ICE americano : 2000 원\n",
      " 합계 :  4000 원\n",
      "추가 주문은 음료 번호를, 지불은 0을 누르세요 : 0\n",
      "주문이 완료되었습니다.\n",
      "최종 주문 내역: ['ICE americano']\n",
      "각 음료 가격: [2000, 2000]\n",
      "총 결제 금액: 4000 원\n"
     ]
    }
   ],
   "source": [
    "menu = ['americano', 'latte', 'mocha', 'yuza_tea', 'green_tea', 'choco_latte']\n",
    "price = [2000, 3000, 3000, 2500, 2500, 3000]\n",
    "\n",
    "class Kiosk:\n",
    "    def __init__(self):\n",
    "        self.menu = menu\n",
    "        self.price = price\n",
    "    \n",
    "    def menu_select(self):  # 오타 수정\n",
    "        self.order_menu = []\n",
    "        self.order_price = []\n",
    "        \n",
    "        n = 0\n",
    "        while n < 1 or len(menu) < n:\n",
    "            n = int(input(\"음료의 번호를 입력하세요:\"))\n",
    "            \n",
    "            if 1 <= n <= len(menu):  # 논리 연산자 수정\n",
    "                self.order_price.append(self.price[n-1])\n",
    "                self.price_sum = self.price[n-1]\n",
    "            else:\n",
    "                print(\"없는 메뉴입니다. 다시 주문해주세요.\")\n",
    "                \n",
    "        t = 0\n",
    "        while t != 1 and t != 2:\n",
    "            t = int(input(\"HOT 음료는 1을, ICE 음료는 2를 입력하세요 : \"))\n",
    "            if t == 1:\n",
    "                self.temp = \"HOT\"\n",
    "            elif t == 2:\n",
    "                self.temp = \"ICE\"\n",
    "            else:\n",
    "                print(\"1과 2중 하나를 입력하세요.\\n\")\n",
    "                \n",
    "        self.order_menu.append(self.temp + ' ' + self.menu[n-1])\n",
    "        self.order_price.append(self.price[n-1])\n",
    "        \n",
    "        self.price_sum = sum(self.order_price)\n",
    "        \n",
    "        print('추가 주문 음료', self.temp, self.menu[n-1], ':', self.price[n-1], '원\\n', '합계 : ', self.price_sum, '원')\n",
    "        \n",
    "        # 이 부분이 들여쓰기 잘못되어 있어서 수정\n",
    "        n = int(input(\"추가 주문은 음료 번호를, 지불은 0을 누르세요 : \"))\n",
    "        if n == 0:\n",
    "            print(\"주문이 완료되었습니다.\")\n",
    "            print(\"최종 주문 내역:\", self.order_menu)\n",
    "            print(\"각 음료 가격:\", self.order_price)\n",
    "            print(\"총 결제 금액:\", sum(self.order_price), \"원\")\n",
    "        else:\n",
    "            print(\"없는 메뉴입니다. 다시 주문해 주세요.\")\n",
    "\n",
    "# 실행 예시\n",
    "a = Kiosk()\n",
    "a.menu_select()"
   ]
  },
  {
   "cell_type": "code",
   "execution_count": 44,
   "id": "0a2d9c2a",
   "metadata": {},
   "outputs": [
    {
     "ename": "NameError",
     "evalue": "name 'n' is not defined",
     "output_type": "error",
     "traceback": [
      "\u001b[0;31m---------------------------------------------------------------------------\u001b[0m",
      "\u001b[0;31mNameError\u001b[0m                                 Traceback (most recent call last)",
      "\u001b[0;32m/tmp/ipykernel_53/3623621366.py\u001b[0m in \u001b[0;36m<module>\u001b[0;34m\u001b[0m\n\u001b[0;32m----> 1\u001b[0;31m \u001b[0;32mclass\u001b[0m \u001b[0mKiosk\u001b[0m\u001b[0;34m:\u001b[0m\u001b[0;34m\u001b[0m\u001b[0;34m\u001b[0m\u001b[0m\n\u001b[0m\u001b[1;32m      2\u001b[0m     \u001b[0;32mdef\u001b[0m \u001b[0m__init__\u001b[0m\u001b[0;34m(\u001b[0m\u001b[0mself\u001b[0m\u001b[0;34m)\u001b[0m\u001b[0;34m:\u001b[0m\u001b[0;34m\u001b[0m\u001b[0;34m\u001b[0m\u001b[0m\n\u001b[1;32m      3\u001b[0m         \u001b[0mself\u001b[0m\u001b[0;34m.\u001b[0m\u001b[0mmenu\u001b[0m \u001b[0;34m=\u001b[0m \u001b[0;34m[\u001b[0m\u001b[0;34m'americano'\u001b[0m\u001b[0;34m,\u001b[0m \u001b[0;34m'latte'\u001b[0m\u001b[0;34m,\u001b[0m \u001b[0;34m'mocha'\u001b[0m\u001b[0;34m,\u001b[0m \u001b[0;34m'yuza_tea'\u001b[0m\u001b[0;34m,\u001b[0m \u001b[0;34m'green_tea'\u001b[0m\u001b[0;34m,\u001b[0m \u001b[0;34m'choco_latte'\u001b[0m\u001b[0;34m]\u001b[0m\u001b[0;34m\u001b[0m\u001b[0;34m\u001b[0m\u001b[0m\n\u001b[1;32m      4\u001b[0m         \u001b[0mself\u001b[0m\u001b[0;34m.\u001b[0m\u001b[0mprice\u001b[0m \u001b[0;34m=\u001b[0m \u001b[0;34m[\u001b[0m\u001b[0;36m2000\u001b[0m\u001b[0;34m,\u001b[0m \u001b[0;36m3000\u001b[0m\u001b[0;34m,\u001b[0m \u001b[0;36m3000\u001b[0m\u001b[0;34m,\u001b[0m \u001b[0;36m2500\u001b[0m\u001b[0;34m,\u001b[0m \u001b[0;36m2500\u001b[0m\u001b[0;34m,\u001b[0m \u001b[0;36m3000\u001b[0m\u001b[0;34m]\u001b[0m\u001b[0;34m\u001b[0m\u001b[0;34m\u001b[0m\u001b[0m\n\u001b[1;32m      5\u001b[0m \u001b[0;34m\u001b[0m\u001b[0m\n",
      "\u001b[0;32m/tmp/ipykernel_53/3623621366.py\u001b[0m in \u001b[0;36mKiosk\u001b[0;34m()\u001b[0m\n\u001b[1;32m     29\u001b[0m \u001b[0;34m\u001b[0m\u001b[0m\n\u001b[1;32m     30\u001b[0m     \u001b[0;31m# 추가 주문 또는 지불\u001b[0m\u001b[0;34m\u001b[0m\u001b[0;34m\u001b[0m\u001b[0m\n\u001b[0;32m---> 31\u001b[0;31m     \u001b[0;32mwhile\u001b[0m \u001b[0mn\u001b[0m \u001b[0;34m!=\u001b[0m \u001b[0;36m0\u001b[0m\u001b[0;34m:\u001b[0m\u001b[0;34m\u001b[0m\u001b[0;34m\u001b[0m\u001b[0m\n\u001b[0m\u001b[1;32m     32\u001b[0m         \u001b[0mprint\u001b[0m\u001b[0;34m(\u001b[0m\u001b[0;34m)\u001b[0m\u001b[0;34m\u001b[0m\u001b[0;34m\u001b[0m\u001b[0m\n\u001b[1;32m     33\u001b[0m         \u001b[0mn\u001b[0m \u001b[0;34m=\u001b[0m \u001b[0mint\u001b[0m\u001b[0;34m(\u001b[0m\u001b[0minput\u001b[0m\u001b[0;34m(\u001b[0m\u001b[0;34m\"추가 주문은 음료 번호를, 지불은 0을 누르세요:\"\u001b[0m\u001b[0;34m)\u001b[0m\u001b[0;34m)\u001b[0m\u001b[0;34m\u001b[0m\u001b[0;34m\u001b[0m\u001b[0m\n",
      "\u001b[0;31mNameError\u001b[0m: name 'n' is not defined"
     ]
    }
   ],
   "source": [
    "class Kiosk:\n",
    "    def __init__(self):\n",
    "        self.menu = ['americano', 'latte', 'mocha', 'yuza_tea', 'green_tea', 'choco_latte']\n",
    "        self.price = [2000, 3000, 3000, 2500, 2500, 3000]\n",
    "        \n",
    "    # 메뉴 출력 메소드\n",
    "    def menu_print(self):\n",
    "        for i in range(len(self.menu)):\n",
    "            print(i+1, self.menu[i], ':', self.price[i],'원')\n",
    "            \n",
    "    # 주문 메소드\n",
    "    def menu_select(self):\n",
    "        print() # 줄 바꿈\n",
    "        n = int(input(\"음료의 번호를 입력하세요:\"))\n",
    "        self.price_sum = self.price[n-1] # 선택 음료 가격 \n",
    "        print(self.menu[n-1], ':', self.price[n-1],'원')\n",
    "        \n",
    "        # 음료 온도 물어보기\n",
    "        t = 0\n",
    "        while t != 1 and t != 2:\n",
    "            t = int(input(\"HOT 음료는 1을, ICE 음료는 2를 입력하세요:\"))\n",
    "            if t == 1:\n",
    "                self.temp = \"HOT\"\n",
    "            elif t == 2:\n",
    "                self.temp = \"ICE\"\n",
    "            else:\n",
    "                print(\"다시 입력하세요.\\n\")\n",
    "        print('추가 주문 음료', self.temp, self.menu[n-1], ':', self.price[n-1],'원')\n",
    "    \n",
    "    # 추가 주문 또는 지불\n",
    "    while n != 0:\n",
    "        print()\n",
    "        n = int(input(\"추가 주문은 음료 번호를, 지불은 0을 누르세요:\"))\n",
    "        if n > 0 and n < len(self.menu) + 1:\n",
    "            \n",
    "            t = 0\n",
    "            while t != 1 and t != 2:\n",
    "                t = int(input(\"HOT 음료는 1을, ICE 음료는 2를 입력하세요:\"))\n",
    "                if t == 1:\n",
    "                    self.temp = \"HOT\"\n",
    "                elif t == 2:\n",
    "                    self.temp = \"ICE\"\n",
    "                else:\n",
    "                    print(\"다시 입력하세요.\\n\")\n",
    "            self.order_price.append(self.price[n-1]) # 가격 리스트에 추가\n",
    "            self.order_menu.append(self.temp + ''+ self.menu[n-1])\n",
    "            self.price_sum += self.price[n-1] # 합계 금액\n",
    "            print('추가 주문 음료',self.temp,self.menu[n-1],\":\",self.price[n-1],'원\\n', '합계:',self.price_sum,'원')\n",
    "        else:\n",
    "            if n == 0:\n",
    "                print(\"주문이 완료되었습니다\")\n",
    "                print(self.order_menu, self.order_price)\n",
    "            else:\n",
    "                print(\"없는 메뉴입니다.\")\n",
    "    \n",
    "a = Kiosk()\n",
    "#a.menu\n",
    "a.menu_print()\n",
    "a.menu_select()"
   ]
  },
  {
   "cell_type": "code",
   "execution_count": 48,
   "id": "cd77d820",
   "metadata": {},
   "outputs": [
    {
     "ename": "IndentationError",
     "evalue": "expected an indented block (3660643079.py, line 70)",
     "output_type": "error",
     "traceback": [
      "\u001b[0;36m  File \u001b[0;32m\"/tmp/ipykernel_53/3660643079.py\"\u001b[0;36m, line \u001b[0;32m70\u001b[0m\n\u001b[0;31m    for i in range(len(menu_temp)):\u001b[0m\n\u001b[0m                                   ^\u001b[0m\n\u001b[0;31mIndentationError\u001b[0m\u001b[0;31m:\u001b[0m expected an indented block\n"
     ]
    }
   ],
   "source": [
    "class Kiosk:\n",
    "    def __init__(self):\n",
    "        self.menu = ['americano', 'latte', 'mocha', 'yuza_tea', 'green_tea', 'choco_latte']\n",
    "        self.price = [2000, 3000, 3000, 2500, 2500, 3000]\n",
    "        self.order_menu = []\n",
    "        self.order_price = []\n",
    "        self.price_sum = 0\n",
    "        \n",
    "    # 메뉴 출력 메소드\n",
    "    def menu_print(self):\n",
    "        for i in range(len(self.menu)):\n",
    "            print(i+1, self.menu[i], ':', self.price[i],'원')\n",
    "            \n",
    "    # 주문 메소드\n",
    "    def menu_select(self):\n",
    "        while True:\n",
    "            print() # 줄 바꿈\n",
    "            n = int(input(\"음료의 번호를 입력하세요 (지불은 0 입력):\"))\n",
    "            \n",
    "            if n == 0:\n",
    "                break  # 주문 종료\n",
    "            \n",
    "            if 1 <= n <= len(self.menu):\n",
    "                t = 0\n",
    "                while t != 1 and t != 2:\n",
    "                    t = int(input(\"HOT 음료는 1을, ICE 음료는 2를 입력하세요:\"))\n",
    "                    if t == 1:\n",
    "                        temp = \"HOT\"\n",
    "                    elif t == 2:\n",
    "                        temp = \"ICE\"\n",
    "                    else:\n",
    "                        print(\"다시 입력하세요.\\n\")\n",
    "                \n",
    "                self.order_price.append(self.price[n-1])\n",
    "                self.order_menu.append(temp + ' ' + self.menu[n-1])\n",
    "                self.price_sum += self.price[n-1]\n",
    "                \n",
    "                print('추가 주문 음료', temp, self.menu[n-1], ':', self.price[n-1],'원\\n', '합계:', self.price_sum,'원')\n",
    "            else:\n",
    "                print(\"없는 메뉴입니다.\")\n",
    "\n",
    "        print(\"주문이 완료되었습니다\")\n",
    "        print(self.order_menu, self.order_price)\n",
    "        print(\"총 결제 금액:\", self.price_sum, \"원\")\n",
    "    \n",
    "    # 지불\n",
    "    def pay(self):\n",
    "        print(f'총 합계 금액은 {self.price_sum}원 입니다.')\n",
    "        # 지불 방법\n",
    "        self.pay_method = 0\n",
    "        while self.pay_method != 1 and self.pay_method != 2:\n",
    "            self.pay_method = int(input('현금 결제는 1번, 카드 결제는 2번을 입력해주세요:'))\n",
    "            if self.pay_method == 1:\n",
    "                print('직원을 호출하겠습니다')\n",
    "            elif self.pay_method == 2:\n",
    "                print('IC 칩 방향에 맞게 카드를 꽂아주세요')\n",
    "            else:\n",
    "                print('다시 결제를 시도해 주세요.')\n",
    "    \n",
    "    \n"
   ]
  },
  {
   "cell_type": "code",
   "execution_count": null,
   "id": "3abe1715",
   "metadata": {},
   "outputs": [],
   "source": []
  }
 ],
 "metadata": {
  "kernelspec": {
   "display_name": "Python 3 (ipykernel)",
   "language": "python",
   "name": "python3"
  },
  "language_info": {
   "codemirror_mode": {
    "name": "ipython",
    "version": 3
   },
   "file_extension": ".py",
   "mimetype": "text/x-python",
   "name": "python",
   "nbconvert_exporter": "python",
   "pygments_lexer": "ipython3",
   "version": "3.9.7"
  }
 },
 "nbformat": 4,
 "nbformat_minor": 5
}
